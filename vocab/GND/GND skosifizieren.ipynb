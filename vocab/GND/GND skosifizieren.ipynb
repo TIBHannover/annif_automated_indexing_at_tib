{
 "cells": [
  {
   "cell_type": "code",
   "execution_count": 5,
   "metadata": {},
   "outputs": [
    {
     "name": "stdout",
     "output_type": "stream",
     "text": [
      "The loaded graph has 630260 statements that fit the query.\n"
     ]
    }
   ],
   "source": [
    "# Query zum Anlegen von SKOS-Daten für GND-Sachschlagwörter\n",
    "\n",
    "import rdflib\n",
    "g = rdflib.Graph()\n",
    "\n",
    "#innerhalb der Anführungszeichen bitte den Pfad zur Turtle-Datei mit den Sachschlagwörtern angeben\n",
    "g.parse(r\"C:\\authorities-sachbegriff_lds_20201013.ttl\", format=\"turtle\")\n",
    "\n",
    "qres = g.query(\n",
    "#Beispiel für einen Query, der eine minimale Auswahl von Daten für jedes GND-Sachschlagwort mitnimmt:    \n",
    "    \"\"\"\n",
    "#select *\n",
    "construct \n",
    "{\n",
    "?entry a skos:Concept.\n",
    "?entry <http://www.w3.org/2004/02/skos/core#prefLabel> ?term .\n",
    "?entry <http://www.w3.org/2004/02/skos/core#broader> ?broader1 .\n",
    "?entry <http://www.w3.org/2004/02/skos/core#broader> ?broader2 .\n",
    "?entry <http://www.w3.org/2004/02/skos/core#broader> ?broader3 .\n",
    "?entry <http://www.w3.org/2004/02/skos/core#broader> ?broader4 .\n",
    "#?entry <http://www.w3.org/2004/02/skos/core#narrower> ?narrower .\n",
    "?entry <http://www.w3.org/2004/02/skos/core#related> ?related1.\n",
    "?entry <http://www.w3.org/2004/02/skos/core#related> ?related2 .\n",
    "}\n",
    "where\n",
    "{\n",
    "#{?entry rdf:type ?1 . }\n",
    "#{?1 rdfs:subClassOf gndo:SubjectHeading .}\n",
    "{?entry gndo:preferredNameForTheSubjectHeading ?term.}\n",
    "UNION {?entry gndo:broaderTermGeneral ?broader1 .}\n",
    "UNION {?entry gndo:broaderTermGeneric ?broader2.}\n",
    "UNION {?entry gndo:broaderTermInstantial ?broader3 .}\n",
    "UNION {?entry gndo:broaderTermPartitive ?broader4.}\n",
    "#UNION {?entry gndo:narrowerTermGeneral ?narrower1 .}\n",
    "#UNION {?entry gndo:narrowerTermGeneric ?narrower2 .}\n",
    "#UNION {?entry gndo:narrowerTermInstantial ?narrower3 .}\n",
    "#UNION {?entry gndo:narrowerTermPartitive ?narrower4 .}\n",
    "UNION {?entry gndo:relatedSubjectHeading ?related1 .}\n",
    "UNION {?entry gndo:relatedTerm ?related2 .}\n",
    "}\n",
    "order by ?entry\n",
    "\n",
    "\"\"\"\n",
    "    , initNs = {\"gndo\": \"https://d-nb.info/standards/elementset/gnd#\", \n",
    "                \"skos\": \"http://www.w3.org/2004/02/skos/core#\", \n",
    "                \"owl\": \"http://www.w3.org/2002/07/owl#\",\n",
    "                \"rdf\": \"http://www.w3.org/1999/02/22-rdf-syntax-ns#\",\n",
    "                \"rdfs\": \"http://www.w3.org/2000/01/rdf-schema#\"}\n",
    ")\n",
    "\n",
    "print(\"The loaded graph has %s statements that fit the query.\" % len(qres))\n",
    "\n",
    "#In den Anführungszeichen bitte den Pfad angeben, in den die skosifizierten Daten gespeichert werden sollen:\n",
    "qres.serialize(destination=r\"C:\\GND-skos.ttl\", format = \"turtle\")"
   ]
  },
  {
   "cell_type": "code",
   "execution_count": null,
   "metadata": {},
   "outputs": [],
   "source": []
  }
 ],
 "metadata": {
  "kernelspec": {
   "display_name": "Python 3",
   "language": "python",
   "name": "python3"
  },
  "language_info": {
   "codemirror_mode": {
    "name": "ipython",
    "version": 3
   },
   "file_extension": ".py",
   "mimetype": "text/x-python",
   "name": "python",
   "nbconvert_exporter": "python",
   "pygments_lexer": "ipython3",
   "version": "3.7.9"
  }
 },
 "nbformat": 4,
 "nbformat_minor": 2
}
